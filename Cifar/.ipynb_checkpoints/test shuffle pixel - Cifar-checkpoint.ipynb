{
 "cells": [
  {
   "cell_type": "code",
   "execution_count": 1,
   "metadata": {},
   "outputs": [],
   "source": [
    "def shuffle_pixel(batch,images,L,idx):\n",
    "    #input: image batchxLxL\n",
    "    #output: image batchxLxL (after shuffling)\n",
    "\n",
    "    images=images.reshape(batch,L*L)\n",
    "\n",
    "    #shuffle\n",
    "    #x=x[[0,1,2,3],:]\n",
    "    images=images[:,idx]\n",
    "    images=images.reshape(batch,L,L)\n",
    "    return images\n",
    "    \n",
    "\n",
    "# L=2\n",
    "# #random idx\n",
    "# idx=np.arange(L*L)\n",
    "# np.random.shuffle(idx)\n",
    "\n",
    "\n",
    "# images=np.array([\n",
    "#     [[10,11],[12,13]],\n",
    "#     [[20,21],[22,23]],\n",
    "#     [[30,31],[32,33]],\n",
    "# ])\n",
    "# images_new=shuffle_pixel(3,images,L,idx)\n",
    "# print(images_new)\n",
    "# print(images_new.shape)\n"
   ]
  },
  {
   "cell_type": "code",
   "execution_count": 3,
   "metadata": {},
   "outputs": [
    {
     "name": "stderr",
     "output_type": "stream",
     "text": [
      "Using TensorFlow backend.\n"
     ]
    }
   ],
   "source": [
    "import matplotlib.pyplot as plt\n",
    "\n",
    "\n",
    "import h5py\n",
    "import tensorflow as tf\n",
    "\n",
    "from keras.datasets import cifar10\n",
    "from keras.models import Sequential, load_model\n",
    "\n",
    "\n",
    "from keras.layers import Dense, Dropout, Flatten\n",
    "from keras.layers.convolutional import Conv2D, AveragePooling2D, MaxPooling2D\n",
    "\n",
    "from keras.regularizers import l2\n",
    "from keras.utils import np_utils\n",
    "from keras import backend as K\n",
    "from keras import optimizers\n",
    "from keras import models\n",
    "\n",
    "from sklearn.model_selection import train_test_split\n",
    "\n",
    "import numpy as np\n",
    "np.random.seed(42)\n"
   ]
  },
  {
   "cell_type": "code",
   "execution_count": null,
   "metadata": {},
   "outputs": [],
   "source": [
    "# Preprocessing data : rescaling and relocating number (exp 1)"
   ]
  },
  {
   "cell_type": "code",
   "execution_count": null,
   "metadata": {},
   "outputs": [
    {
     "name": "stdout",
     "output_type": "stream",
     "text": [
      "Downloading data from https://www.cs.toronto.edu/~kriz/cifar-10-python.tar.gz\n",
      "    73728/170498071 [..............................] - ETA: 12:33:29"
     ]
    }
   ],
   "source": [
    "(X_train, y_train), (X_test, y_test) = cifar10.load_data()"
   ]
  },
  {
   "cell_type": "code",
   "execution_count": 25,
   "metadata": {},
   "outputs": [
    {
     "data": {
      "text/plain": [
       "(60000, 28, 28)"
      ]
     },
     "execution_count": 25,
     "metadata": {},
     "output_type": "execute_result"
    }
   ],
   "source": [
    "X_train.shape"
   ]
  },
  {
   "cell_type": "code",
   "execution_count": null,
   "metadata": {},
   "outputs": [],
   "source": [
    "# Shuffle image"
   ]
  },
  {
   "cell_type": "code",
   "execution_count": 26,
   "metadata": {},
   "outputs": [
    {
     "name": "stdout",
     "output_type": "stream",
     "text": [
      "(60000, 28, 28)\n",
      "(10000, 28, 28)\n"
     ]
    }
   ],
   "source": [
    "L=X_train.shape[1]#28\n",
    "#random idx\n",
    "idx=np.arange(L*L)\n",
    "np.random.shuffle(idx)\n",
    "\n",
    "\n",
    "X_train_new=shuffle_pixel(X_train.shape[0],X_train,L,idx)\n",
    "X_test_new=shuffle_pixel(X_test.shape[0],X_test,L,idx)\n",
    "print(X_train_new.shape)\n",
    "print(X_test_new.shape)"
   ]
  },
  {
   "cell_type": "code",
   "execution_count": 27,
   "metadata": {},
   "outputs": [
    {
     "data": {
      "text/plain": [
       "<matplotlib.image.AxesImage at 0x7f32ec1b6710>"
      ]
     },
     "execution_count": 27,
     "metadata": {},
     "output_type": "execute_result"
    },
    {
     "data": {
      "image/png": "[encoded data removed]",
      "text/plain": [
       "<Figure size 432x288 with 1 Axes>"
      ]
     },
     "metadata": {
      "needs_background": "light"
     },
     "output_type": "display_data"
    }
   ],
   "source": [
    "plt.imshow(X_train[0])"
   ]
  },
  {
   "cell_type": "code",
   "execution_count": 28,
   "metadata": {},
   "outputs": [
    {
     "data": {
      "text/plain": [
       "<matplotlib.image.AxesImage at 0x7f32f1f35c90>"
      ]
     },
     "execution_count": 28,
     "metadata": {},
     "output_type": "execute_result"
    },
    {
     "data": {
      "image/png": "[encoded data removed]",
      "text/plain": [
       "<Figure size 432x288 with 1 Axes>"
      ]
     },
     "metadata": {
      "needs_background": "light"
     },
     "output_type": "display_data"
    }
   ],
   "source": [
    "plt.imshow(X_train_new[0])"
   ]
  },
  {
   "cell_type": "code",
   "execution_count": 29,
   "metadata": {},
   "outputs": [],
   "source": [
    "# reshape X_train and X_test TO (batch_size, channel, height, width)\n",
    "#X_train_new = X_train_new.reshape(X_train_new.shape[0], 1, L, L).astype('float32')\n",
    "X_train_new = X_train_new.reshape(X_train_new.shape[0], L, L,1).astype('float32')\n",
    "\n",
    "#X_test_new = X_test_new.reshape(X_test_new.shape[0], 1, L, L).astype('float32')\n",
    "X_test_new = X_test_new.reshape(X_test_new.shape[0],L, L,1).astype('float32')\n",
    "\n",
    "# normalize inputs from 0-255 to 0-1\n",
    "X_train_new = X_train_new / 255\n",
    "\n",
    "X_test_new = X_test_new / 255\n",
    "\n",
    "#split test set to val and test set\n",
    "X_train_new, X_val_new, y_train, y_val = train_test_split(X_train_new, y_train, test_size=0.1)\n",
    "                                                          #,random_state=0)\n",
    "\n"
   ]
  },
  {
   "cell_type": "code",
   "execution_count": 30,
   "metadata": {},
   "outputs": [
    {
     "data": {
      "text/plain": [
       "(54000, 28, 28, 1)"
      ]
     },
     "execution_count": 30,
     "metadata": {},
     "output_type": "execute_result"
    }
   ],
   "source": [
    "X_train_new.shape"
   ]
  },
  {
   "cell_type": "code",
   "execution_count": 31,
   "metadata": {},
   "outputs": [],
   "source": [
    "# one-hot encode outputs\n",
    "y_train = np_utils.to_categorical(y_train)\n",
    "y_test = np_utils.to_categorical(y_test)\n",
    "y_val = np_utils.to_categorical(y_val)\n",
    "\n"
   ]
  },
  {
   "cell_type": "code",
   "execution_count": 32,
   "metadata": {},
   "outputs": [
    {
     "name": "stdout",
     "output_type": "stream",
     "text": [
      "(54000, 10)\n",
      "(10000, 10)\n",
      "(6000, 10)\n"
     ]
    }
   ],
   "source": [
    "print(y_train.shape)\n",
    "print(y_test.shape)\n",
    "print(y_val.shape)"
   ]
  },
  {
   "cell_type": "code",
   "execution_count": null,
   "metadata": {},
   "outputs": [],
   "source": [
    "# Define model"
   ]
  },
  {
   "cell_type": "code",
   "execution_count": 33,
   "metadata": {},
   "outputs": [
    {
     "data": {
      "text/plain": [
       "28"
      ]
     },
     "execution_count": 33,
     "metadata": {},
     "output_type": "execute_result"
    }
   ],
   "source": [
    "L"
   ]
  },
  {
   "cell_type": "code",
   "execution_count": 118,
   "metadata": {},
   "outputs": [],
   "source": [
    "# kernel_size=3\n",
    "# size=L\n",
    "# def create_neural_network_model(size, opt=\"adam\"):\n",
    "#     # create model\n",
    "#     model = Sequential()\n",
    "#     model.add(Conv2D(64, (kernel_size, kernel_size), input_shape=(1, size, size), \n",
    "#                      activation='relu', \n",
    "#                      #name=\"conv_{}x{}_1\".format(kernel_size,kernel_size)\n",
    "#                     ))\n",
    "#     model.add(AveragePooling2D(pool_size=(2, 2), name = \"averPool_2x2_1\"))\n",
    "#     model.add(Dropout(0.3, name = \"drop_1\"))\n",
    "\n",
    "\n",
    "#     model.add(Conv2D(64, (kernel_size, kernel_size), activation='relu', \n",
    "#                      name=\"conv_{}x{}_2\".format(kernel_size,kernel_size)))\n",
    "#     model.add(AveragePooling2D(pool_size=(2, 2),name=\"averPool_2x2_2\"))\n",
    "#     model.add(Dropout(0.3, name = \"drop_2\"))\n",
    "\n",
    "\n",
    "#     model.add(Conv2D(32, (kernel_size, kernel_size), activation='relu', \n",
    "#                      name=\"conv_{}x{}_3\".format(kernel_size,kernel_size)))\n",
    "#     model.add(AveragePooling2D(pool_size=(2, 2), name=\"averPool_2x2_3\"))\n",
    "\n",
    "#     # \tmodel.add(Conv2D(32, (5, 5), activation='relu'))\n",
    "#     # \tmodel.add(AveragePooling2D(pool_size=(2, 2)))\n",
    "\n",
    "#     model.add(Flatten(name=\"flatten\"))\n",
    "#     model.add(Dropout(0.35, name = \"drop_3\"))\n",
    "\n",
    "#     model.add(Dense(128, activation='relu', \n",
    "#             kernel_regularizer=l2(0.),\n",
    "#                     name=\"dense_1\"\n",
    "#         ))\n",
    "#     model.add(Dropout(0.3, name = \"drop_4\"))\n",
    "\n",
    "#     model.add(Dense(10, activation='softmax', \n",
    "#         kernel_regularizer=l2(0.),\n",
    "#                     name=\"dense_2\"\n",
    "#         ))\n",
    "\n",
    "\n",
    "#     # Compile model\n",
    "#     model.compile(loss='categorical_crossentropy', \n",
    "#                     optimizer=opt, metrics=['accuracy'])\n",
    "#     return model"
   ]
  },
  {
   "cell_type": "code",
   "execution_count": 14,
   "metadata": {},
   "outputs": [],
   "source": [
    "# epoch_num = 20\n",
    "# batch_size = 256\n",
    "# optimizer = optimizers.Adam(lr=0.001, beta_1=0.9, beta_2=0.999, epsilon=None, \n",
    "#                             decay=0.0, amsgrad=False)\n",
    "\n",
    "\n",
    "# model = create_neural_network_model(size, opt=optimizer)\n",
    "\n",
    "# # model.save('models/experiment_{}.{}_.h5'.format(experiment_index, experiment_subindex))\n",
    "\n",
    "# model.summary()"
   ]
  },
  {
   "cell_type": "code",
   "execution_count": 35,
   "metadata": {},
   "outputs": [],
   "source": [
    "import keras\n",
    "input_shape=(L,L,1)\n",
    "num_classes=10\n",
    "\n",
    "\n",
    "model = Sequential()\n",
    "model.add(Conv2D(32, kernel_size=(3, 3),\n",
    "                 activation='relu',\n",
    "                 input_shape=input_shape))\n",
    "model.add(Conv2D(64, (3, 3), activation='relu'))\n",
    "model.add(MaxPooling2D(pool_size=(2, 2)))\n",
    "model.add(Dropout(0.25))\n",
    "model.add(Flatten())\n",
    "model.add(Dense(128, activation='relu'))\n",
    "model.add(Dropout(0.5))\n",
    "model.add(Dense(num_classes, activation='softmax'))\n",
    "\n",
    "model.compile(loss=keras.losses.categorical_crossentropy,\n",
    "              optimizer=keras.optimizers.Adadelta(),\n",
    "              metrics=['accuracy'])\n"
   ]
  },
  {
   "cell_type": "code",
   "execution_count": null,
   "metadata": {},
   "outputs": [
    {
     "name": "stdout",
     "output_type": "stream",
     "text": [
      "Train on 54000 samples, validate on 6000 samples\n",
      "Epoch 1/12\n",
      "54000/54000 [==============================] - 49s 907us/step - loss: 0.4971 - accuracy: 0.8433 - val_loss: 0.1671 - val_accuracy: 0.9478\n",
      "Epoch 2/12\n",
      "54000/54000 [==============================] - 51s 946us/step - loss: 0.1958 - accuracy: 0.9415 - val_loss: 0.1131 - val_accuracy: 0.9653\n",
      "Epoch 3/12\n",
      "54000/54000 [==============================] - 47s 871us/step - loss: 0.1419 - accuracy: 0.9570 - val_loss: 0.0949 - val_accuracy: 0.9702\n",
      "Epoch 4/12\n",
      "18048/54000 [=========>....................] - ETA: 32s - loss: 0.1143 - accuracy: 0.9661"
     ]
    }
   ],
   "source": [
    "batch_size = 128\n",
    "num_classes = 10\n",
    "epochs = 12\n",
    "\n",
    "model.fit(X_train_new, y_train,\n",
    "          batch_size=batch_size,\n",
    "          epochs=epochs,\n",
    "          verbose=1,\n",
    "          validation_data=(X_val_new, y_val))\n",
    "score = model.evaluate(x_test, y_test, verbose=0)\n",
    "print('Test loss:', score[0])\n",
    "print('Test accuracy:', score[1])"
   ]
  }
 ],
 "metadata": {
  "kernelspec": {
   "display_name": "Python 3",
   "language": "python",
   "name": "python3"
  },
  "language_info": {
   "codemirror_mode": {
    "name": "ipython",
    "version": 3
   },
   "file_extension": ".py",
   "mimetype": "text/x-python",
   "name": "python",
   "nbconvert_exporter": "python",
   "pygments_lexer": "ipython3",
   "version": "3.7.6"
  }
 },
 "nbformat": 4,
 "nbformat_minor": 2
}
