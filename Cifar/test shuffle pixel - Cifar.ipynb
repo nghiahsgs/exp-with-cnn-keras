{
 "cells": [
  {
   "cell_type": "code",
   "execution_count": 11,
   "metadata": {},
   "outputs": [],
   "source": [
    "def shuffle_pixel(batch,images,L,idx):\n",
    "    #input: image batchxLxLx3\n",
    "    #output: image batchxLxLx3 (after shuffling)\n",
    "\n",
    "    images=images.reshape(batch,L*L,3)\n",
    "\n",
    "    #shuffle\n",
    "    #x=x[[0,1,2,3],:]\n",
    "    images=images[:,idx,:]\n",
    "    images=images.reshape(batch,L,L,3)\n",
    "    return images\n",
    "    \n",
    "\n",
    "# L=2\n",
    "# #random idx\n",
    "# idx=np.arange(L*L)\n",
    "# np.random.shuffle(idx)\n",
    "\n",
    "\n",
    "# images=np.array([\n",
    "#     [[[10,15,20],[11,16,21]],[[12,17,22],[13,18,23]]],\n",
    "#     [[[20,25,30],[21,26,31]],[[22,27,32],[23,28,33]]],\n",
    "#     [[[30,35,40],[31,36,41]],[[32,37,42],[33,38,43]]],\n",
    "# ])\n",
    "# print(images.shape)\n",
    "# images_new=shuffle_pixel(3,images,L,idx)\n",
    "# print(images_new[0])\n",
    "# print('===')\n",
    "# print(images_new[1])\n",
    "# print('===')\n",
    "# print(images_new[2])\n",
    "# print('===')\n",
    "# print(images_new.shape)\n"
   ]
  },
  {
   "cell_type": "code",
   "execution_count": 3,
   "metadata": {},
   "outputs": [
    {
     "name": "stderr",
     "output_type": "stream",
     "text": [
      "Using TensorFlow backend.\n"
     ]
    }
   ],
   "source": [
    "import matplotlib.pyplot as plt\n",
    "\n",
    "\n",
    "import h5py\n",
    "import tensorflow as tf\n",
    "\n",
    "from keras.datasets import cifar10\n",
    "from keras.models import Sequential, load_model\n",
    "\n",
    "\n",
    "from keras.layers import Dense, Dropout, Flatten\n",
    "from keras.layers.convolutional import Conv2D, AveragePooling2D, MaxPooling2D\n",
    "\n",
    "from keras.regularizers import l2\n",
    "from keras.utils import np_utils\n",
    "from keras import backend as K\n",
    "from keras import optimizers\n",
    "from keras import models\n",
    "\n",
    "from sklearn.model_selection import train_test_split\n",
    "\n",
    "import numpy as np\n",
    "np.random.seed(42)\n"
   ]
  },
  {
   "cell_type": "code",
   "execution_count": null,
   "metadata": {},
   "outputs": [],
   "source": [
    "# Preprocessing data : rescaling and relocating number (exp 1)"
   ]
  },
  {
   "cell_type": "code",
   "execution_count": 4,
   "metadata": {},
   "outputs": [
    {
     "name": "stdout",
     "output_type": "stream",
     "text": [
      "Downloading data from https://www.cs.toronto.edu/~kriz/cifar-10-python.tar.gz\n",
      "170500096/170498071 [==============================] - 545s 3us/step\n"
     ]
    }
   ],
   "source": [
    "(X_train, y_train), (X_test, y_test) = cifar10.load_data()"
   ]
  },
  {
   "cell_type": "code",
   "execution_count": 6,
   "metadata": {},
   "outputs": [
    {
     "data": {
      "text/plain": [
       "(50000, 32, 32, 3)"
      ]
     },
     "execution_count": 6,
     "metadata": {},
     "output_type": "execute_result"
    }
   ],
   "source": [
    "X_train.shape"
   ]
  },
  {
   "cell_type": "code",
   "execution_count": 7,
   "metadata": {},
   "outputs": [
    {
     "data": {
      "text/plain": [
       "(10000, 32, 32, 3)"
      ]
     },
     "execution_count": 7,
     "metadata": {},
     "output_type": "execute_result"
    }
   ],
   "source": [
    "X_test.shape"
   ]
  },
  {
   "cell_type": "code",
   "execution_count": null,
   "metadata": {},
   "outputs": [],
   "source": [
    "# Shuffle image"
   ]
  },
  {
   "cell_type": "code",
   "execution_count": 13,
   "metadata": {},
   "outputs": [],
   "source": [
    "L=X_train.shape[1]#32\n",
    "#random idx\n",
    "idx=np.arange(L*L)\n",
    "np.random.shuffle(idx)\n",
    "\n",
    "\n",
    "X_train_new=shuffle_pixel(X_train.shape[0],X_train,L,idx)\n",
    "X_test_new=shuffle_pixel(X_test.shape[0],X_test,L,idx)\n"
   ]
  },
  {
   "cell_type": "code",
   "execution_count": 14,
   "metadata": {},
   "outputs": [
    {
     "name": "stdout",
     "output_type": "stream",
     "text": [
      "(50000, 32, 32, 3)\n",
      "(10000, 32, 32, 3)\n"
     ]
    }
   ],
   "source": [
    "print(X_train_new.shape)\n",
    "print(X_test_new.shape)"
   ]
  },
  {
   "cell_type": "code",
   "execution_count": 22,
   "metadata": {},
   "outputs": [
    {
     "name": "stdout",
     "output_type": "stream",
     "text": [
      "317790\n"
     ]
    },
    {
     "data": {
      "image/png": "[encoded data removed]",
      "text/plain": [
       "<Figure size 432x288 with 1 Axes>"
      ]
     },
     "metadata": {
      "needs_background": "light"
     },
     "output_type": "display_data"
    }
   ],
   "source": [
    "plt.imshow(X_train[0])\n",
    "print(np.sum(X_train[0]))"
   ]
  },
  {
   "cell_type": "code",
   "execution_count": 21,
   "metadata": {},
   "outputs": [
    {
     "name": "stdout",
     "output_type": "stream",
     "text": [
      "317790\n"
     ]
    },
    {
     "data": {
      "image/png": "[encoded data removed]",
      "text/plain": [
       "<Figure size 432x288 with 1 Axes>"
      ]
     },
     "metadata": {
      "needs_background": "light"
     },
     "output_type": "display_data"
    }
   ],
   "source": [
    "plt.imshow(X_train_new[0])\n",
    "print(np.sum(X_train_new[0]))"
   ]
  },
  {
   "cell_type": "code",
   "execution_count": 23,
   "metadata": {},
   "outputs": [],
   "source": [
    "# # reshape X_train and X_test TO (batch_size, channel, height, width)\n",
    "# #X_train_new = X_train_new.reshape(X_train_new.shape[0], 1, L, L).astype('float32')\n",
    "# X_train_new = X_train_new.reshape(X_train_new.shape[0], L, L,1).astype('float32')\n",
    "\n",
    "# #X_test_new = X_test_new.reshape(X_test_new.shape[0], 1, L, L).astype('float32')\n",
    "# X_test_new = X_test_new.reshape(X_test_new.shape[0],L, L,1).astype('float32')\n",
    "\n",
    "# normalize inputs from 0-255 to 0-1\n",
    "X_train_new = X_train_new / 255\n",
    "\n",
    "X_test_new = X_test_new / 255\n",
    "\n",
    "#split test set to val and test set\n",
    "X_train_new, X_val_new, y_train, y_val = train_test_split(X_train_new, y_train, test_size=0.1)\n",
    "                                                          #,random_state=0)\n",
    "\n"
   ]
  },
  {
   "cell_type": "code",
   "execution_count": 24,
   "metadata": {},
   "outputs": [
    {
     "data": {
      "text/plain": [
       "(45000, 32, 32, 3)"
      ]
     },
     "execution_count": 24,
     "metadata": {},
     "output_type": "execute_result"
    }
   ],
   "source": [
    "X_train_new.shape"
   ]
  },
  {
   "cell_type": "code",
   "execution_count": 25,
   "metadata": {},
   "outputs": [],
   "source": [
    "# one-hot encode outputs\n",
    "y_train = np_utils.to_categorical(y_train)\n",
    "y_test = np_utils.to_categorical(y_test)\n",
    "y_val = np_utils.to_categorical(y_val)\n",
    "\n"
   ]
  },
  {
   "cell_type": "code",
   "execution_count": 26,
   "metadata": {},
   "outputs": [
    {
     "name": "stdout",
     "output_type": "stream",
     "text": [
      "(45000, 10)\n",
      "(10000, 10)\n",
      "(5000, 10)\n"
     ]
    }
   ],
   "source": [
    "print(y_train.shape)\n",
    "print(y_test.shape)\n",
    "print(y_val.shape)"
   ]
  },
  {
   "cell_type": "code",
   "execution_count": null,
   "metadata": {},
   "outputs": [],
   "source": [
    "# Define model"
   ]
  },
  {
   "cell_type": "code",
   "execution_count": 27,
   "metadata": {},
   "outputs": [
    {
     "data": {
      "text/plain": [
       "32"
      ]
     },
     "execution_count": 27,
     "metadata": {},
     "output_type": "execute_result"
    }
   ],
   "source": [
    "L"
   ]
  },
  {
   "cell_type": "code",
   "execution_count": 14,
   "metadata": {},
   "outputs": [],
   "source": [
    "# epoch_num = 20\n",
    "# batch_size = 256\n",
    "# optimizer = optimizers.Adam(lr=0.001, beta_1=0.9, beta_2=0.999, epsilon=None, \n",
    "#                             decay=0.0, amsgrad=False)\n",
    "\n",
    "\n",
    "# model = create_neural_network_model(size, opt=optimizer)\n",
    "\n",
    "# # model.save('models/experiment_{}.{}_.h5'.format(experiment_index, experiment_subindex))\n",
    "\n",
    "# model.summary()"
   ]
  },
  {
   "cell_type": "code",
   "execution_count": 30,
   "metadata": {},
   "outputs": [],
   "source": [
    "import keras\n",
    "from keras.datasets import cifar10\n",
    "from keras.preprocessing.image import ImageDataGenerator\n",
    "from keras.models import Sequential\n",
    "from keras.layers import Dense, Dropout, Activation, Flatten\n",
    "from keras.layers import Conv2D, MaxPooling2D\n",
    "\n",
    "input_shape=(L,L,3)\n",
    "num_classes=10\n",
    "\n",
    "model = Sequential()\n",
    "model.add(Conv2D(32, (3, 3), padding='same',input_shape=input_shape))\n",
    "model.add(Activation('relu'))\n",
    "model.add(Conv2D(32, (3, 3)))\n",
    "model.add(Activation('relu'))\n",
    "model.add(MaxPooling2D(pool_size=(2, 2)))\n",
    "model.add(Dropout(0.25))\n",
    "\n",
    "model.add(Conv2D(64, (3, 3), padding='same'))\n",
    "model.add(Activation('relu'))\n",
    "model.add(Conv2D(64, (3, 3)))\n",
    "model.add(Activation('relu'))\n",
    "model.add(MaxPooling2D(pool_size=(2, 2)))\n",
    "model.add(Dropout(0.25))\n",
    "\n",
    "model.add(Flatten())\n",
    "model.add(Dense(512))\n",
    "model.add(Activation('relu'))\n",
    "model.add(Dropout(0.5))\n",
    "model.add(Dense(num_classes))\n",
    "model.add(Activation('softmax'))\n",
    "\n",
    "\n",
    "# initiate RMSprop optimizer\n",
    "opt = keras.optimizers.RMSprop(learning_rate=0.0001, decay=1e-6)\n",
    "\n",
    "# Let's train the model using RMSprop\n",
    "model.compile(loss='categorical_crossentropy',\n",
    "              optimizer=opt,\n",
    "              metrics=['accuracy'])\n"
   ]
  },
  {
   "cell_type": "code",
   "execution_count": null,
   "metadata": {},
   "outputs": [
    {
     "name": "stdout",
     "output_type": "stream",
     "text": [
      "Train on 45000 samples, validate on 5000 samples\n",
      "Epoch 1/100\n",
      "45000/45000 [==============================] - 101s 2ms/step - loss: 2.0364 - accuracy: 0.2373 - val_loss: 1.9275 - val_accuracy: 0.2958\n",
      "Epoch 2/100\n",
      "45000/45000 [==============================] - 90s 2ms/step - loss: 1.8968 - accuracy: 0.3041 - val_loss: 1.8631 - val_accuracy: 0.3370\n",
      "Epoch 3/100\n",
      "45000/45000 [==============================] - 104s 2ms/step - loss: 1.7980 - accuracy: 0.3502 - val_loss: 1.7195 - val_accuracy: 0.3772\n",
      "Epoch 4/100\n",
      "45000/45000 [==============================] - 96s 2ms/step - loss: 1.7140 - accuracy: 0.3827 - val_loss: 1.6806 - val_accuracy: 0.3996\n",
      "Epoch 5/100\n",
      "45000/45000 [==============================] - 96s 2ms/step - loss: 1.6571 - accuracy: 0.4051 - val_loss: 1.7301 - val_accuracy: 0.3968\n",
      "Epoch 6/100\n",
      "45000/45000 [==============================] - 97s 2ms/step - loss: 1.6138 - accuracy: 0.4218 - val_loss: 1.6065 - val_accuracy: 0.4262\n",
      "Epoch 7/100\n",
      "45000/45000 [==============================] - 95s 2ms/step - loss: 1.5817 - accuracy: 0.4336 - val_loss: 1.5495 - val_accuracy: 0.4442\n",
      "Epoch 8/100\n",
      "45000/45000 [==============================] - 106s 2ms/step - loss: 1.5548 - accuracy: 0.4435 - val_loss: 1.5267 - val_accuracy: 0.4560\n",
      "Epoch 9/100\n",
      "45000/45000 [==============================] - 101s 2ms/step - loss: 1.5315 - accuracy: 0.4540 - val_loss: 1.4951 - val_accuracy: 0.4636\n",
      "Epoch 10/100\n",
      "45000/45000 [==============================] - 94s 2ms/step - loss: 1.5124 - accuracy: 0.4586 - val_loss: 1.4827 - val_accuracy: 0.4732\n",
      "Epoch 11/100\n",
      "45000/45000 [==============================] - 232s 5ms/step - loss: 1.4984 - accuracy: 0.4655 - val_loss: 1.5247 - val_accuracy: 0.4602\n",
      "Epoch 12/100\n",
      "45000/45000 [==============================] - 281s 6ms/step - loss: 1.4795 - accuracy: 0.4750 - val_loss: 1.4847 - val_accuracy: 0.4716\n",
      "Epoch 13/100\n",
      "45000/45000 [==============================] - 320s 7ms/step - loss: 1.4653 - accuracy: 0.4776 - val_loss: 1.4424 - val_accuracy: 0.4838\n",
      "Epoch 14/100\n",
      "45000/45000 [==============================] - 334s 7ms/step - loss: 1.4501 - accuracy: 0.4850 - val_loss: 1.4558 - val_accuracy: 0.4786\n",
      "Epoch 15/100\n",
      "45000/45000 [==============================] - 223s 5ms/step - loss: 1.4413 - accuracy: 0.4875 - val_loss: 1.4217 - val_accuracy: 0.4898\n",
      "Epoch 16/100\n",
      "45000/45000 [==============================] - 211s 5ms/step - loss: 1.4268 - accuracy: 0.4915 - val_loss: 1.4684 - val_accuracy: 0.4902\n",
      "Epoch 17/100\n",
      "45000/45000 [==============================] - 214s 5ms/step - loss: 1.4216 - accuracy: 0.4962 - val_loss: 1.4561 - val_accuracy: 0.4886\n",
      "Epoch 18/100\n",
      "45000/45000 [==============================] - 201s 4ms/step - loss: 1.4067 - accuracy: 0.4982 - val_loss: 1.4162 - val_accuracy: 0.4954\n",
      "Epoch 19/100\n",
      "45000/45000 [==============================] - 221s 5ms/step - loss: 1.4058 - accuracy: 0.5000 - val_loss: 1.4121 - val_accuracy: 0.5052\n",
      "Epoch 20/100\n",
      "45000/45000 [==============================] - 220s 5ms/step - loss: 1.3926 - accuracy: 0.5058 - val_loss: 1.4457 - val_accuracy: 0.4902\n",
      "Epoch 21/100\n",
      "45000/45000 [==============================] - 212s 5ms/step - loss: 1.3823 - accuracy: 0.5100 - val_loss: 1.3972 - val_accuracy: 0.4966\n",
      "Epoch 22/100\n",
      "45000/45000 [==============================] - 213s 5ms/step - loss: 1.3768 - accuracy: 0.5128 - val_loss: 1.3948 - val_accuracy: 0.5032\n",
      "Epoch 23/100\n",
      "45000/45000 [==============================] - 219s 5ms/step - loss: 1.3705 - accuracy: 0.5130 - val_loss: 1.4073 - val_accuracy: 0.5164\n",
      "Epoch 24/100\n",
      "45000/45000 [==============================] - 230s 5ms/step - loss: 1.3662 - accuracy: 0.5161 - val_loss: 1.3787 - val_accuracy: 0.5042\n",
      "Epoch 25/100\n",
      "45000/45000 [==============================] - 231s 5ms/step - loss: 1.3614 - accuracy: 0.5185 - val_loss: 1.3889 - val_accuracy: 0.5044\n",
      "Epoch 26/100\n",
      "45000/45000 [==============================] - 235s 5ms/step - loss: 1.3561 - accuracy: 0.5218 - val_loss: 1.3915 - val_accuracy: 0.5062\n",
      "Epoch 27/100\n",
      "45000/45000 [==============================] - 218s 5ms/step - loss: 1.3544 - accuracy: 0.5195 - val_loss: 1.3976 - val_accuracy: 0.4978\n",
      "Epoch 28/100\n",
      "45000/45000 [==============================] - 212s 5ms/step - loss: 1.3422 - accuracy: 0.5259 - val_loss: 1.4300 - val_accuracy: 0.5078\n",
      "Epoch 29/100\n",
      "45000/45000 [==============================] - 208s 5ms/step - loss: 1.3434 - accuracy: 0.5259 - val_loss: 1.4710 - val_accuracy: 0.5028\n",
      "Epoch 30/100\n",
      "45000/45000 [==============================] - 201s 4ms/step - loss: 1.3380 - accuracy: 0.5283 - val_loss: 1.3882 - val_accuracy: 0.5098\n",
      "Epoch 31/100\n",
      "45000/45000 [==============================] - 213s 5ms/step - loss: 1.3347 - accuracy: 0.5301 - val_loss: 1.3749 - val_accuracy: 0.5104\n",
      "Epoch 32/100\n",
      "45000/45000 [==============================] - 207s 5ms/step - loss: 1.3291 - accuracy: 0.5297 - val_loss: 1.4345 - val_accuracy: 0.5078\n",
      "Epoch 33/100\n",
      "45000/45000 [==============================] - 235s 5ms/step - loss: 1.3299 - accuracy: 0.5308 - val_loss: 1.4762 - val_accuracy: 0.4972\n",
      "Epoch 34/100\n",
      "45000/45000 [==============================] - 221s 5ms/step - loss: 1.3275 - accuracy: 0.5312 - val_loss: 1.4317 - val_accuracy: 0.4964\n",
      "Epoch 35/100\n",
      "20352/45000 [============>.................] - ETA: 1:49 - loss: 1.3148 - accuracy: 0.5334"
     ]
    }
   ],
   "source": [
    "batch_size = 32\n",
    "num_classes = 10\n",
    "epochs = 100\n",
    "\n",
    "model.fit(X_train_new, y_train,\n",
    "          batch_size=batch_size,\n",
    "          epochs=epochs,\n",
    "          verbose=1,\n",
    "          validation_data=(X_val_new, y_val))"
   ]
  },
  {
   "cell_type": "code",
   "execution_count": null,
   "metadata": {},
   "outputs": [],
   "source": [
    "score = model.evaluate(X_test_new, y_test, verbose=0)\n",
    "print('Test loss:', score[0])\n",
    "print('Test accuracy:', score[1])"
   ]
  }
 ],
 "metadata": {
  "kernelspec": {
   "display_name": "Python 3",
   "language": "python",
   "name": "python3"
  },
  "language_info": {
   "codemirror_mode": {
    "name": "ipython",
    "version": 3
   },
   "file_extension": ".py",
   "mimetype": "text/x-python",
   "name": "python",
   "nbconvert_exporter": "python",
   "pygments_lexer": "ipython3",
   "version": "3.7.6"
  }
 },
 "nbformat": 4,
 "nbformat_minor": 2
}
